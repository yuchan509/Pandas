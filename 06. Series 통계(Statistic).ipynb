{
 "cells": [
  {
   "cell_type": "code",
   "execution_count": 1,
   "metadata": {},
   "outputs": [],
   "source": [
    "import numpy as np\n",
    "import pandas as pd"
   ]
  },
  {
   "cell_type": "code",
   "execution_count": 2,
   "metadata": {},
   "outputs": [
    {
     "data": {
      "text/plain": [
       "aa    10\n",
       "bb    20\n",
       "cc    30\n",
       "dd    40\n",
       "ee    50\n",
       "Name: 국어점수, dtype: int64"
      ]
     },
     "execution_count": 2,
     "metadata": {},
     "output_type": "execute_result"
    }
   ],
   "source": [
    "# 사용할 데이터.\n",
    "data = {'aa':10,'bb':20,'cc':30,'dd':40,'ee':50}\n",
    "sr   = pd.Series(data, name='국어점수')\n",
    "sr"
   ]
  },
  {
   "cell_type": "code",
   "execution_count": 3,
   "metadata": {},
   "outputs": [
    {
     "data": {
      "text/plain": [
       "150"
      ]
     },
     "execution_count": 3,
     "metadata": {},
     "output_type": "execute_result"
    }
   ],
   "source": [
    "# 합.\n",
    "sr.sum()"
   ]
  },
  {
   "cell_type": "code",
   "execution_count": 4,
   "metadata": {
    "scrolled": true
   },
   "outputs": [
    {
     "data": {
      "text/plain": [
       "30.0"
      ]
     },
     "execution_count": 4,
     "metadata": {},
     "output_type": "execute_result"
    }
   ],
   "source": [
    "# 평균.\n",
    "sr.mean()"
   ]
  },
  {
   "cell_type": "code",
   "execution_count": 5,
   "metadata": {},
   "outputs": [
    {
     "data": {
      "text/plain": [
       "15.811388300841896"
      ]
     },
     "execution_count": 5,
     "metadata": {},
     "output_type": "execute_result"
    }
   ],
   "source": [
    "# 표준편차.\n",
    "sr.std()"
   ]
  },
  {
   "cell_type": "code",
   "execution_count": 6,
   "metadata": {},
   "outputs": [
    {
     "data": {
      "text/plain": [
       "30.0"
      ]
     },
     "execution_count": 6,
     "metadata": {},
     "output_type": "execute_result"
    }
   ],
   "source": [
    "# 중앙값.\n",
    "sr.median()"
   ]
  },
  {
   "cell_type": "code",
   "execution_count": 7,
   "metadata": {},
   "outputs": [
    {
     "name": "stdout",
     "output_type": "stream",
     "text": [
      "50\n",
      "10\n"
     ]
    }
   ],
   "source": [
    "# 최대값과 최소값.\n",
    "print(sr.max())\n",
    "print(sr.min())"
   ]
  },
  {
   "cell_type": "code",
   "execution_count": 8,
   "metadata": {},
   "outputs": [
    {
     "data": {
      "text/plain": [
       "0.25    20.0\n",
       "0.75    40.0\n",
       "Name: 국어점수, dtype: float64"
      ]
     },
     "execution_count": 8,
     "metadata": {},
     "output_type": "execute_result"
    }
   ],
   "source": [
    "# quantile() : 100분위수.\n",
    "sr.quantile([0.25, 0.75])"
   ]
  },
  {
   "cell_type": "code",
   "execution_count": 9,
   "metadata": {},
   "outputs": [
    {
     "data": {
      "text/plain": [
       "40    1\n",
       "10    1\n",
       "20    1\n",
       "30    1\n",
       "50    1\n",
       "Name: 국어점수, dtype: int64"
      ]
     },
     "execution_count": 9,
     "metadata": {},
     "output_type": "execute_result"
    }
   ],
   "source": [
    "# value_counts() : 값의 개수를 출력.\n",
    "sr.value_counts()"
   ]
  },
  {
   "cell_type": "code",
   "execution_count": 10,
   "metadata": {},
   "outputs": [
    {
     "name": "stdout",
     "output_type": "stream",
     "text": [
      "ee\n",
      "aa\n"
     ]
    }
   ],
   "source": [
    "# 가장 큰(작은) 값의 index를 반환.\n",
    "print(sr.idxmax())\n",
    "print(sr.idxmin())"
   ]
  },
  {
   "cell_type": "code",
   "execution_count": 11,
   "metadata": {},
   "outputs": [
    {
     "data": {
      "text/plain": [
       "40"
      ]
     },
     "execution_count": 11,
     "metadata": {},
     "output_type": "execute_result"
    }
   ],
   "source": [
    "# 응용.\n",
    "# sr[sr<=45].max()\n",
    "sr[sr[sr <= 45].idxmax()]"
   ]
  },
  {
   "cell_type": "code",
   "execution_count": 12,
   "metadata": {},
   "outputs": [
    {
     "name": "stdout",
     "output_type": "stream",
     "text": [
      "aa    10\n",
      "bb    20\n",
      "Name: 국어점수, dtype: int64\n",
      "\n",
      "bb    20\n",
      "cc    30\n",
      "dd    40\n",
      "ee    50\n",
      "Name: 국어점수, dtype: int64\n"
     ]
    }
   ],
   "source": [
    "# head() : 앞에서 부터 지정한 수 만큼.\n",
    "# tail() : 뒤에서 부터 지정한 수 만큼.\n",
    "# 디폴트 값 5로 설정.\n",
    "print(sr.head(2))\n",
    "print('')\n",
    "print(sr.tail(4))"
   ]
  },
  {
   "cell_type": "code",
   "execution_count": 13,
   "metadata": {},
   "outputs": [
    {
     "data": {
      "text/plain": [
       "ee    50\n",
       "dd    40\n",
       "Name: 국어점수, dtype: int64"
      ]
     },
     "execution_count": 13,
     "metadata": {},
     "output_type": "execute_result"
    }
   ],
   "source": [
    "# nlargest() : 지정된 수 만큼 큰 값 순으로 표시.\n",
    "# keep='first' : 동등한 값이 있다면 제일 먼저 나온 값을 표시.\n",
    "# keep='last' : 동등한 값이 있다면 제일 마지막에 나온 값을 표시.\n",
    "# keep ='all' :동등한 값을 모두 표시.\n",
    "sr.nlargest(2)"
   ]
  },
  {
   "cell_type": "code",
   "execution_count": 14,
   "metadata": {},
   "outputs": [
    {
     "data": {
      "text/plain": [
       "aa    10\n",
       "bb    20\n",
       "cc    30\n",
       "Name: 국어점수, dtype: int64"
      ]
     },
     "execution_count": 14,
     "metadata": {},
     "output_type": "execute_result"
    }
   ],
   "source": [
    "# nsmallest() : 지정된 수 만큼 큰 값 순으로 표시.\n",
    "# keep='first' : 동등한 값이 있다면 제일 먼저 나온 값을 표시.\n",
    "# keep='last' : 동등한 값이 있다면 제일 마지막에 나온 값을 표시.\n",
    "# keep ='all' :동등한 값을 모두 표시.\n",
    "sr.nsmallest(3)"
   ]
  },
  {
   "cell_type": "code",
   "execution_count": 15,
   "metadata": {},
   "outputs": [],
   "source": [
    "# apply() 를 사용하기 위한 함수 생성.\n",
    "def fn(v):\n",
    "    print('v=',v)\n",
    "    print('==========')\n",
    "    return v+1"
   ]
  },
  {
   "cell_type": "code",
   "execution_count": 16,
   "metadata": {},
   "outputs": [
    {
     "name": "stdout",
     "output_type": "stream",
     "text": [
      "v= 10\n",
      "==========\n",
      "v= 20\n",
      "==========\n",
      "v= 30\n",
      "==========\n",
      "v= 40\n",
      "==========\n",
      "v= 50\n",
      "==========\n"
     ]
    },
    {
     "data": {
      "text/plain": [
       "aa    11\n",
       "bb    21\n",
       "cc    31\n",
       "dd    41\n",
       "ee    51\n",
       "Name: 국어점수, dtype: int64"
      ]
     },
     "execution_count": 16,
     "metadata": {},
     "output_type": "execute_result"
    }
   ],
   "source": [
    "# apply(함수) : Series를 함수에 적용시켜줌.\n",
    "sr.apply(fn)"
   ]
  },
  {
   "cell_type": "code",
   "execution_count": 17,
   "metadata": {},
   "outputs": [],
   "source": [
    "def fn(v):\n",
    "#     print('v=',v)\n",
    "#     print('==========')\n",
    "#     if v>30:\n",
    "#         return v+1\n",
    "#     else:\n",
    "#         return v+2\n",
    "    return v + 1 if v > 30 else v+2"
   ]
  },
  {
   "cell_type": "code",
   "execution_count": 18,
   "metadata": {},
   "outputs": [
    {
     "data": {
      "text/plain": [
       "aa    12\n",
       "bb    22\n",
       "cc    32\n",
       "dd    41\n",
       "ee    51\n",
       "Name: 국어점수, dtype: int64"
      ]
     },
     "execution_count": 18,
     "metadata": {},
     "output_type": "execute_result"
    }
   ],
   "source": [
    "sr.apply(fn)"
   ]
  },
  {
   "cell_type": "code",
   "execution_count": 19,
   "metadata": {},
   "outputs": [
    {
     "data": {
      "text/plain": [
       "aa    12\n",
       "bb    22\n",
       "cc    32\n",
       "dd    41\n",
       "ee    51\n",
       "Name: 국어점수, dtype: int64"
      ]
     },
     "execution_count": 19,
     "metadata": {},
     "output_type": "execute_result"
    }
   ],
   "source": [
    "# lambda식 표현으로 함수를 대체하여 적용.\n",
    "sr.apply(lambda v: v + 1 if v > 30 else v + 2)"
   ]
  },
  {
   "cell_type": "code",
   "execution_count": 20,
   "metadata": {},
   "outputs": [
    {
     "data": {
      "text/plain": [
       "aa    불합격\n",
       "bb    불합격\n",
       "cc    불합격\n",
       "dd     합격\n",
       "ee     합격\n",
       "Name: 국어점수, dtype: object"
      ]
     },
     "execution_count": 20,
     "metadata": {},
     "output_type": "execute_result"
    }
   ],
   "source": [
    "# lambda식 표현으로 함수를 대체하여 적용.\n",
    "sr.apply(lambda x: '합격' if x >= 40 else '불합격')"
   ]
  },
  {
   "cell_type": "code",
   "execution_count": 21,
   "metadata": {
    "scrolled": false
   },
   "outputs": [
    {
     "data": {
      "text/plain": [
       "aa    (9.96, 18.0]\n",
       "bb    (18.0, 26.0]\n",
       "cc    (26.0, 34.0]\n",
       "dd    (34.0, 42.0]\n",
       "ee    (42.0, 50.0]\n",
       "Name: 국어점수, dtype: category\n",
       "Categories (5, interval[float64]): [(9.96, 18.0] < (18.0, 26.0] < (26.0, 34.0] < (34.0, 42.0] < (42.0, 50.0]]"
      ]
     },
     "execution_count": 21,
     "metadata": {},
     "output_type": "execute_result"
    }
   ],
   "source": [
    "# 지정한 n개의 계급으로 분할.\n",
    "# 9.96 < aa <=18.0\n",
    "# 8.0< bb <=26.0.....\n",
    "pd.cut(sr, 5)  "
   ]
  },
  {
   "cell_type": "code",
   "execution_count": 22,
   "metadata": {},
   "outputs": [
    {
     "data": {
      "text/plain": [
       "(9.96, 18.0]    1\n",
       "(18.0, 26.0]    1\n",
       "(26.0, 34.0]    1\n",
       "(34.0, 42.0]    1\n",
       "(42.0, 50.0]    1\n",
       "Name: 국어점수, dtype: int64"
      ]
     },
     "execution_count": 22,
     "metadata": {},
     "output_type": "execute_result"
    }
   ],
   "source": [
    "# 5계급으로 분할 한 뒤 값의 개수를 구하고 Index를 기준으로 오름차순으로 정렬.\n",
    "pd.cut(sr, 5).value_counts().sort_index()"
   ]
  },
  {
   "cell_type": "code",
   "execution_count": 23,
   "metadata": {},
   "outputs": [
    {
     "data": {
      "text/plain": [
       "(0, 20]     2\n",
       "(20, 40]    2\n",
       "(40, 60]    1\n",
       "Name: 국어점수, dtype: int64"
      ]
     },
     "execution_count": 23,
     "metadata": {},
     "output_type": "execute_result"
    }
   ],
   "source": [
    "# 계급 구간을 직접 설정. \n",
    "# range()를 쓰면 손쉽게 설정이 가능.\n",
    "pd.cut(sr,[0,20,40,60]).value_counts().sort_index()"
   ]
  },
  {
   "cell_type": "code",
   "execution_count": 24,
   "metadata": {},
   "outputs": [
    {
     "data": {
      "text/plain": [
       "aa    C\n",
       "bb    C\n",
       "cc    B\n",
       "dd    B\n",
       "ee    A\n",
       "Name: 국어점수, dtype: category\n",
       "Categories (3, object): ['C' < 'B' < 'A']"
      ]
     },
     "execution_count": 24,
     "metadata": {},
     "output_type": "execute_result"
    }
   ],
   "source": [
    "# 특정 구간에 따른 값에 대하여 labels를 설정함으로써 문자로 표현이 가능.\n",
    "pd.cut(sr,[0,20,40,60], labels=['C','B','A'])"
   ]
  },
  {
   "cell_type": "code",
   "execution_count": 25,
   "metadata": {},
   "outputs": [
    {
     "name": "stdout",
     "output_type": "stream",
     "text": [
      "aa\n",
      "bb\n",
      "cc\n",
      "dd\n",
      "ee\n"
     ]
    }
   ],
   "source": [
    "# for을 통한 index 값만 추출.\n",
    "for n in sr.index:\n",
    "    print(n)"
   ]
  },
  {
   "cell_type": "code",
   "execution_count": 26,
   "metadata": {},
   "outputs": [
    {
     "name": "stdout",
     "output_type": "stream",
     "text": [
      "10\n",
      "20\n",
      "30\n",
      "40\n",
      "50\n"
     ]
    }
   ],
   "source": [
    "# for문을 통한 값들만 추출.\n",
    "for n in sr:\n",
    "    print(n)"
   ]
  },
  {
   "cell_type": "code",
   "execution_count": 27,
   "metadata": {},
   "outputs": [
    {
     "name": "stdout",
     "output_type": "stream",
     "text": [
      "('aa', 10)\n",
      "('bb', 20)\n",
      "('cc', 30)\n",
      "('dd', 40)\n",
      "('ee', 50)\n"
     ]
    }
   ],
   "source": [
    "# items() : Series의 Index와 value를 tuple로 반환.\n",
    "# for문을 통해 튜플로 Index와 value를 둘 다 추출이 가능.\n",
    "for n in sr.items():\n",
    "    print(n)"
   ]
  },
  {
   "cell_type": "code",
   "execution_count": 28,
   "metadata": {},
   "outputs": [
    {
     "name": "stdout",
     "output_type": "stream",
     "text": [
      "aa 10\n",
      "bb 20\n",
      "cc 30\n",
      "dd 40\n",
      "ee 50\n"
     ]
    }
   ],
   "source": [
    "# 튜플에 떼어서 추출하고자 할 경우, 변수를 지정하여 추출하면 됨.\n",
    "for idx, v in sr.items():\n",
    "    print(idx, v)"
   ]
  },
  {
   "cell_type": "code",
   "execution_count": 29,
   "metadata": {},
   "outputs": [],
   "source": [
    "# Series 데이터를 csv로 저장.\n",
    "sr.to_csv('data.csv')"
   ]
  }
 ],
 "metadata": {
  "kernelspec": {
   "display_name": "Python 3",
   "language": "python",
   "name": "python3"
  },
  "language_info": {
   "codemirror_mode": {
    "name": "ipython",
    "version": 3
   },
   "file_extension": ".py",
   "mimetype": "text/x-python",
   "name": "python",
   "nbconvert_exporter": "python",
   "pygments_lexer": "ipython3",
   "version": "3.7.6"
  }
 },
 "nbformat": 4,
 "nbformat_minor": 4
}
