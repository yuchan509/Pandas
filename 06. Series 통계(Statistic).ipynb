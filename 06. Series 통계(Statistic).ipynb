{
 "cells": [
  {
   "cell_type": "code",
   "execution_count": 1,
   "metadata": {},
   "outputs": [],
   "source": [
    "import numpy as np\n",
    "import pandas as pd\n",
    "import matplotlib.pyplot as plt\n",
    "\n",
    "# 시각화 도구 설정.\n",
    "import matplotlib\n",
    "matplotlib.rcParams['font.family']='Malgun Gothic'\n",
    "matplotlib.rcParams['axes.unicode_minus'] = False"
   ]
  },
  {
   "cell_type": "code",
   "execution_count": 2,
   "metadata": {},
   "outputs": [
    {
     "data": {
      "text/plain": [
       "aa    10\n",
       "bb    20\n",
       "cc    30\n",
       "dd    40\n",
       "ee    50\n",
       "Name: 국어점수, dtype: int64"
      ]
     },
     "execution_count": 2,
     "metadata": {},
     "output_type": "execute_result"
    }
   ],
   "source": [
    "# 사용할 데이터.\n",
    "data = {'aa':10,'bb':20,'cc':30,'dd':40,'ee':50}\n",
    "sr   = pd.Series(data, name='국어점수')\n",
    "sr"
   ]
  },
  {
   "cell_type": "code",
   "execution_count": 3,
   "metadata": {},
   "outputs": [
    {
     "data": {
      "text/plain": [
       "150"
      ]
     },
     "execution_count": 3,
     "metadata": {},
     "output_type": "execute_result"
    }
   ],
   "source": [
    "# 합.\n",
    "sr.sum()"
   ]
  },
  {
   "cell_type": "code",
   "execution_count": 4,
   "metadata": {
    "scrolled": true
   },
   "outputs": [
    {
     "data": {
      "text/plain": [
       "30.0"
      ]
     },
     "execution_count": 4,
     "metadata": {},
     "output_type": "execute_result"
    }
   ],
   "source": [
    "# 평균.\n",
    "sr.mean()"
   ]
  },
  {
   "cell_type": "code",
   "execution_count": 5,
   "metadata": {},
   "outputs": [
    {
     "data": {
      "text/plain": [
       "15.811388300841896"
      ]
     },
     "execution_count": 5,
     "metadata": {},
     "output_type": "execute_result"
    }
   ],
   "source": [
    "# 표준편차.\n",
    "sr.std()"
   ]
  },
  {
   "cell_type": "code",
   "execution_count": 6,
   "metadata": {},
   "outputs": [
    {
     "data": {
      "text/plain": [
       "30.0"
      ]
     },
     "execution_count": 6,
     "metadata": {},
     "output_type": "execute_result"
    }
   ],
   "source": [
    "# 중앙값.\n",
    "sr.median()"
   ]
  },
  {
   "cell_type": "code",
   "execution_count": 7,
   "metadata": {},
   "outputs": [
    {
     "name": "stdout",
     "output_type": "stream",
     "text": [
      "50\n",
      "10\n"
     ]
    }
   ],
   "source": [
    "# 최대값과 최소값.\n",
    "print(sr.max())\n",
    "print(sr.min())"
   ]
  },
  {
   "cell_type": "code",
   "execution_count": 8,
   "metadata": {},
   "outputs": [
    {
     "data": {
      "text/plain": [
       "0.25    20.0\n",
       "0.75    40.0\n",
       "Name: 국어점수, dtype: float64"
      ]
     },
     "execution_count": 8,
     "metadata": {},
     "output_type": "execute_result"
    }
   ],
   "source": [
    "# quantile() : 100분위수.\n",
    "sr.quantile([0.25, 0.75])"
   ]
  },
  {
   "cell_type": "code",
   "execution_count": 9,
   "metadata": {},
   "outputs": [
    {
     "data": {
      "text/plain": [
       "40    1\n",
       "10    1\n",
       "20    1\n",
       "30    1\n",
       "50    1\n",
       "Name: 국어점수, dtype: int64"
      ]
     },
     "execution_count": 9,
     "metadata": {},
     "output_type": "execute_result"
    }
   ],
   "source": [
    "# value_counts() : 값의 개수를 출력.\n",
    "sr.value_counts()"
   ]
  },
  {
   "cell_type": "code",
   "execution_count": 10,
   "metadata": {},
   "outputs": [
    {
     "name": "stdout",
     "output_type": "stream",
     "text": [
      "ee\n",
      "aa\n"
     ]
    }
   ],
   "source": [
    "# 가장 큰(작은) 값의 index를 반환.\n",
    "print(sr.idxmax())\n",
    "print(sr.idxmin())"
   ]
  },
  {
   "cell_type": "code",
   "execution_count": 11,
   "metadata": {},
   "outputs": [
    {
     "data": {
      "text/plain": [
       "40"
      ]
     },
     "execution_count": 11,
     "metadata": {},
     "output_type": "execute_result"
    }
   ],
   "source": [
    "# 응용.\n",
    "# sr[sr<=45].max()\n",
    "sr[sr[sr <= 45].idxmax()]"
   ]
  },
  {
   "cell_type": "code",
   "execution_count": 12,
   "metadata": {},
   "outputs": [
    {
     "name": "stdout",
     "output_type": "stream",
     "text": [
      "aa    10\n",
      "bb    20\n",
      "Name: 국어점수, dtype: int64\n",
      "\n",
      "bb    20\n",
      "cc    30\n",
      "dd    40\n",
      "ee    50\n",
      "Name: 국어점수, dtype: int64\n"
     ]
    }
   ],
   "source": [
    "# head() : 앞에서 부터 지정한 수 만큼.\n",
    "# tail() : 뒤에서 부터 지정한 수 만큼.\n",
    "# 디폴트 값 5로 설정.\n",
    "print(sr.head(2))\n",
    "print('')\n",
    "print(sr.tail(4))"
   ]
  },
  {
   "cell_type": "code",
   "execution_count": 13,
   "metadata": {},
   "outputs": [
    {
     "data": {
      "text/plain": [
       "ee    50\n",
       "dd    40\n",
       "Name: 국어점수, dtype: int64"
      ]
     },
     "execution_count": 13,
     "metadata": {},
     "output_type": "execute_result"
    }
   ],
   "source": [
    "# nlargest() : 지정된 수 만큼 큰 값 순으로 표시.\n",
    "# keep='first' : 동등한 값이 있다면 제일 먼저 나온 값을 표시.\n",
    "# keep='last' : 동등한 값이 있다면 제일 마지막에 나온 값을 표시.\n",
    "# keep ='all' :동등한 값을 모두 표시.\n",
    "sr.nlargest(2)"
   ]
  },
  {
   "cell_type": "code",
   "execution_count": 14,
   "metadata": {},
   "outputs": [
    {
     "data": {
      "text/plain": [
       "aa    10\n",
       "bb    20\n",
       "cc    30\n",
       "Name: 국어점수, dtype: int64"
      ]
     },
     "execution_count": 14,
     "metadata": {},
     "output_type": "execute_result"
    }
   ],
   "source": [
    "# nsmallest() : 지정된 수 만큼 큰 값 순으로 표시.\n",
    "# keep='first' : 동등한 값이 있다면 제일 먼저 나온 값을 표시.\n",
    "# keep='last' : 동등한 값이 있다면 제일 마지막에 나온 값을 표시.\n",
    "# keep ='all' :동등한 값을 모두 표시.\n",
    "sr.nsmallest(3)"
   ]
  },
  {
   "cell_type": "code",
   "execution_count": 15,
   "metadata": {},
   "outputs": [],
   "source": [
    "# apply() 를 사용하기 위한 함수 생성.\n",
    "def fn(v):\n",
    "    print('v=',v)\n",
    "    print('==========')\n",
    "    return v+1"
   ]
  },
  {
   "cell_type": "code",
   "execution_count": 16,
   "metadata": {},
   "outputs": [
    {
     "name": "stdout",
     "output_type": "stream",
     "text": [
      "v= 10\n",
      "==========\n",
      "v= 20\n",
      "==========\n",
      "v= 30\n",
      "==========\n",
      "v= 40\n",
      "==========\n",
      "v= 50\n",
      "==========\n"
     ]
    },
    {
     "data": {
      "text/plain": [
       "aa    11\n",
       "bb    21\n",
       "cc    31\n",
       "dd    41\n",
       "ee    51\n",
       "Name: 국어점수, dtype: int64"
      ]
     },
     "execution_count": 16,
     "metadata": {},
     "output_type": "execute_result"
    }
   ],
   "source": [
    "# apply(함수) : Series를 함수에 적용시켜줌.\n",
    "sr.apply(fn)"
   ]
  },
  {
   "cell_type": "code",
   "execution_count": 17,
   "metadata": {},
   "outputs": [],
   "source": [
    "def fn(v):\n",
    "#     print('v=',v)\n",
    "#     print('==========')\n",
    "#     if v>30:\n",
    "#         return v+1\n",
    "#     else:\n",
    "#         return v+2\n",
    "    return v + 1 if v > 30 else v+2"
   ]
  },
  {
   "cell_type": "code",
   "execution_count": 18,
   "metadata": {},
   "outputs": [
    {
     "data": {
      "text/plain": [
       "aa    12\n",
       "bb    22\n",
       "cc    32\n",
       "dd    41\n",
       "ee    51\n",
       "Name: 국어점수, dtype: int64"
      ]
     },
     "execution_count": 18,
     "metadata": {},
     "output_type": "execute_result"
    }
   ],
   "source": [
    "sr.apply(fn)"
   ]
  },
  {
   "cell_type": "code",
   "execution_count": 19,
   "metadata": {},
   "outputs": [
    {
     "data": {
      "text/plain": [
       "aa    12\n",
       "bb    22\n",
       "cc    32\n",
       "dd    41\n",
       "ee    51\n",
       "Name: 국어점수, dtype: int64"
      ]
     },
     "execution_count": 19,
     "metadata": {},
     "output_type": "execute_result"
    }
   ],
   "source": [
    "# lambda식 표현으로 함수를 대체하여 적용.\n",
    "sr.apply(lambda v: v + 1 if v > 30 else v + 2)"
   ]
  },
  {
   "cell_type": "code",
   "execution_count": 20,
   "metadata": {},
   "outputs": [
    {
     "data": {
      "text/plain": [
       "aa    불합격\n",
       "bb    불합격\n",
       "cc    불합격\n",
       "dd     합격\n",
       "ee     합격\n",
       "Name: 국어점수, dtype: object"
      ]
     },
     "execution_count": 20,
     "metadata": {},
     "output_type": "execute_result"
    }
   ],
   "source": [
    "# lambda식 표현으로 함수를 대체하여 적용.\n",
    "sr.apply(lambda x: '합격' if x >= 40 else '불합격')"
   ]
  },
  {
   "cell_type": "code",
   "execution_count": 21,
   "metadata": {
    "scrolled": false
   },
   "outputs": [
    {
     "data": {
      "text/plain": [
       "aa    (9.96, 18.0]\n",
       "bb    (18.0, 26.0]\n",
       "cc    (26.0, 34.0]\n",
       "dd    (34.0, 42.0]\n",
       "ee    (42.0, 50.0]\n",
       "Name: 국어점수, dtype: category\n",
       "Categories (5, interval[float64]): [(9.96, 18.0] < (18.0, 26.0] < (26.0, 34.0] < (34.0, 42.0] < (42.0, 50.0]]"
      ]
     },
     "execution_count": 21,
     "metadata": {},
     "output_type": "execute_result"
    }
   ],
   "source": [
    "# 지정한 n개의 계급으로 분할.\n",
    "# 9.96 < aa <=18.0\n",
    "# 8.0< bb <=26.0.....\n",
    "pd.cut(sr, 5)  "
   ]
  },
  {
   "cell_type": "code",
   "execution_count": 22,
   "metadata": {},
   "outputs": [
    {
     "data": {
      "text/plain": [
       "(9.96, 18.0]    1\n",
       "(18.0, 26.0]    1\n",
       "(26.0, 34.0]    1\n",
       "(34.0, 42.0]    1\n",
       "(42.0, 50.0]    1\n",
       "Name: 국어점수, dtype: int64"
      ]
     },
     "execution_count": 22,
     "metadata": {},
     "output_type": "execute_result"
    }
   ],
   "source": [
    "# 5계급으로 분할 한 뒤 값의 개수를 구하고 Index를 기준으로 오름차순으로 정렬.\n",
    "pd.cut(sr, 5).value_counts().sort_index()"
   ]
  },
  {
   "cell_type": "code",
   "execution_count": 23,
   "metadata": {},
   "outputs": [
    {
     "data": {
      "text/plain": [
       "(0, 20]     2\n",
       "(20, 40]    2\n",
       "(40, 60]    1\n",
       "Name: 국어점수, dtype: int64"
      ]
     },
     "execution_count": 23,
     "metadata": {},
     "output_type": "execute_result"
    }
   ],
   "source": [
    "# 계급 구간을 직접 설정. \n",
    "# range()를 쓰면 손쉽게 설정이 가능.\n",
    "pd.cut(sr,[0,20,40,60]).value_counts().sort_index()"
   ]
  },
  {
   "cell_type": "code",
   "execution_count": 24,
   "metadata": {},
   "outputs": [
    {
     "data": {
      "text/plain": [
       "aa    C\n",
       "bb    C\n",
       "cc    B\n",
       "dd    B\n",
       "ee    A\n",
       "Name: 국어점수, dtype: category\n",
       "Categories (3, object): ['C' < 'B' < 'A']"
      ]
     },
     "execution_count": 24,
     "metadata": {},
     "output_type": "execute_result"
    }
   ],
   "source": [
    "# 특정 구간에 따른 값에 대하여 labels를 설정함으로써 문자로 표현이 가능.\n",
    "pd.cut(sr,[0,20,40,60], labels=['C','B','A'])"
   ]
  },
  {
   "cell_type": "code",
   "execution_count": 25,
   "metadata": {},
   "outputs": [
    {
     "name": "stdout",
     "output_type": "stream",
     "text": [
      "aa\n",
      "bb\n",
      "cc\n",
      "dd\n",
      "ee\n"
     ]
    }
   ],
   "source": [
    "# for을 통한 index 값만 추출.\n",
    "for n in sr.index:\n",
    "    print(n)"
   ]
  },
  {
   "cell_type": "code",
   "execution_count": 26,
   "metadata": {},
   "outputs": [
    {
     "name": "stdout",
     "output_type": "stream",
     "text": [
      "10\n",
      "20\n",
      "30\n",
      "40\n",
      "50\n"
     ]
    }
   ],
   "source": [
    "# for문을 통한 값들만 추출.\n",
    "for n in sr:\n",
    "    print(n)"
   ]
  },
  {
   "cell_type": "code",
   "execution_count": 27,
   "metadata": {},
   "outputs": [
    {
     "name": "stdout",
     "output_type": "stream",
     "text": [
      "('aa', 10)\n",
      "('bb', 20)\n",
      "('cc', 30)\n",
      "('dd', 40)\n",
      "('ee', 50)\n"
     ]
    }
   ],
   "source": [
    "# items() : Series의 Index와 value를 tuple로 반환.\n",
    "# for문을 통해 튜플로 Index와 value를 둘 다 추출이 가능.\n",
    "for n in sr.items():\n",
    "    print(n)"
   ]
  },
  {
   "cell_type": "code",
   "execution_count": 28,
   "metadata": {},
   "outputs": [
    {
     "name": "stdout",
     "output_type": "stream",
     "text": [
      "aa 10\n",
      "bb 20\n",
      "cc 30\n",
      "dd 40\n",
      "ee 50\n"
     ]
    }
   ],
   "source": [
    "# 튜플에 떼어서 추출하고자 할 경우, 변수를 지정하여 추출하면 됨.\n",
    "for idx, v in sr.items():\n",
    "    print(idx, v)"
   ]
  },
  {
   "cell_type": "code",
   "execution_count": 29,
   "metadata": {},
   "outputs": [],
   "source": [
    "# Series 데이터를 csv로 저장.\n",
    "sr.to_csv('data.csv')"
   ]
  },
  {
   "cell_type": "markdown",
   "metadata": {},
   "source": [
    "#### 시각화Visualization)\n",
    "- < Main Option >\n",
    "    - kind : 시각화 유형 설정.\n",
    "    - color : 색상 설정.\n",
    "    - figsize : 표현될 이미지 크기 설정.\n",
    "    - title : 제목 이름 설정.\n",
    "    - legend : 범례 여부 설정.(True, False)\n",
    "    - grid : 격자 여부 설정.(True, False)\n",
    "    - xlim : x축 값의 범위를 설정.\n",
    "    - ylim : y축 값의 범위를 설정.\n",
    "    - rot : 주어진 값만큼 표현되는 변수명을 회전시켜 표시."
   ]
  },
  {
   "cell_type": "markdown",
   "metadata": {},
   "source": [
    "- Matplotlib에서 이용 가능한 색상."
   ]
  },
  {
   "cell_type": "code",
   "execution_count": 30,
   "metadata": {},
   "outputs": [
    {
     "data": {
      "image/png": "[encoded data removed]",
      "text/plain": [
       "<Figure size 1080x576 with 1 Axes>"
      ]
     },
     "metadata": {
      "needs_background": "light"
     },
     "output_type": "display_data"
    }
   ],
   "source": [
    "from __future__ import division\n",
    "from matplotlib import colors as mcolors\n",
    "\n",
    "colors = dict(mcolors.BASE_COLORS, **mcolors.CSS4_COLORS)\n",
    "\n",
    "# Sort colors by hue, saturation, value and name.\n",
    "by_hsv = sorted((tuple(mcolors.rgb_to_hsv(mcolors.to_rgba(color)[:3])), name)\n",
    "                for name, color in colors.items())\n",
    "sorted_names = [name for hsv, name in by_hsv]\n",
    "\n",
    "n = len(sorted_names)\n",
    "ncols = 4\n",
    "nrows = n // ncols + 1\n",
    "\n",
    "fig, ax = plt.subplots(figsize=(15, 8))\n",
    "\n",
    "# Get height and width\n",
    "X, Y = fig.get_dpi() * fig.get_size_inches()\n",
    "h = Y / (nrows + 1)\n",
    "w = X / ncols\n",
    "\n",
    "for i, name in enumerate(sorted_names):\n",
    "    col = i % ncols\n",
    "    row = i // ncols\n",
    "    y = Y - (row * h) - h\n",
    "\n",
    "    xi_line = w * (col + 0.05)\n",
    "    xf_line = w * (col + 0.25)\n",
    "    xi_text = w * (col + 0.3)\n",
    "\n",
    "    ax.text(xi_text, y, name, fontsize=(h * 0.8),\n",
    "            horizontalalignment='left',\n",
    "            verticalalignment='center')\n",
    "\n",
    "    ax.hlines(y + h * 0.1, xi_line, xf_line,\n",
    "              color=colors[name], linewidth=(h * 0.6))\n",
    "\n",
    "ax.set_xlim(0, X)\n",
    "ax.set_ylim(0, Y)\n",
    "ax.set_axis_off()\n",
    "\n",
    "fig.subplots_adjust(left=0, right=1,\n",
    "                    top=1, bottom=0,\n",
    "                    hspace=0, wspace=0)\n",
    "plt.show()"
   ]
  },
  {
   "cell_type": "code",
   "execution_count": 31,
   "metadata": {},
   "outputs": [
    {
     "data": {
      "image/png": "[encoded data removed]",
      "text/plain": [
       "<Figure size 432x288 with 1 Axes>"
      ]
     },
     "metadata": {
      "needs_background": "light"
     },
     "output_type": "display_data"
    }
   ],
   "source": [
    "# Line(선) 그래프.\n",
    "sr.plot(color='darkmagenta')\n",
    "plt.show()"
   ]
  },
  {
   "cell_type": "code",
   "execution_count": 32,
   "metadata": {},
   "outputs": [
    {
     "data": {
      "image/png": "[encoded data removed]",
      "text/plain": [
       "<Figure size 504x360 with 1 Axes>"
      ]
     },
     "metadata": {
      "needs_background": "light"
     },
     "output_type": "display_data"
    }
   ],
   "source": [
    "sr.plot(kind='bar', figsize=(7,5), title='성적 데이터', legend=True, grid=True, ylim=(0,100), rot=45, color='silver')\n",
    "plt.show()"
   ]
  },
  {
   "cell_type": "code",
   "execution_count": 33,
   "metadata": {},
   "outputs": [
    {
     "data": {
      "image/png": "[encoded data removed]",
      "text/plain": [
       "<Figure size 432x288 with 1 Axes>"
      ]
     },
     "metadata": {
      "needs_background": "light"
     },
     "output_type": "display_data"
    }
   ],
   "source": [
    "# kind : barh => 가로 막대그래프.\n",
    "sr.plot(kind='barh', color='tomato')\n",
    "plt.show()"
   ]
  },
  {
   "cell_type": "code",
   "execution_count": 34,
   "metadata": {},
   "outputs": [
    {
     "data": {
      "image/png": "[encoded data removed]",
      "text/plain": [
       "<Figure size 432x288 with 1 Axes>"
      ]
     },
     "metadata": {
      "needs_background": "light"
     },
     "output_type": "display_data"
    }
   ],
   "source": [
    "# 빈도를 보여주는 Histogram.\n",
    "sr.plot(kind='hist', color='skyblue')\n",
    "plt.show()"
   ]
  },
  {
   "cell_type": "code",
   "execution_count": 35,
   "metadata": {},
   "outputs": [
    {
     "data": {
      "image/png": "[encoded data removed]",
      "text/plain": [
       "<Figure size 432x288 with 1 Axes>"
      ]
     },
     "metadata": {
      "needs_background": "light"
     },
     "output_type": "display_data"
    }
   ],
   "source": [
    "# 이같은 방식으로도 표현이 가능.\n",
    "# bins : x축 범위 설정이 가능.\n",
    "sr.hist(bins=[0, 20, 40, 60], color='pink')\n",
    "plt.show()"
   ]
  },
  {
   "cell_type": "code",
   "execution_count": 36,
   "metadata": {},
   "outputs": [
    {
     "data": {
      "image/png": "[encoded data removed]",
      "text/plain": [
       "<Figure size 432x288 with 1 Axes>"
      ]
     },
     "metadata": {},
     "output_type": "display_data"
    }
   ],
   "source": [
    "# Pie 차트 그래프. \n",
    "# autopct : 자동으로 비율을 표시해줌.\n",
    "sr.plot(kind='pie', autopct='%.2f')\n",
    "plt.show()"
   ]
  },
  {
   "cell_type": "code",
   "execution_count": 37,
   "metadata": {},
   "outputs": [
    {
     "data": {
      "image/png": "[encoded data removed]",
      "text/plain": [
       "<Figure size 432x288 with 1 Axes>"
      ]
     },
     "metadata": {
      "needs_background": "light"
     },
     "output_type": "display_data"
    }
   ],
   "source": [
    "# Box-plot(상자 그림)을 표현.\n",
    "sr.plot(kind='box')\n",
    "plt.show()"
   ]
  },
  {
   "cell_type": "code",
   "execution_count": 38,
   "metadata": {},
   "outputs": [
    {
     "data": {
      "image/png": "[encoded data removed]",
      "text/plain": [
       "<Figure size 432x288 with 1 Axes>"
      ]
     },
     "metadata": {
      "needs_background": "light"
     },
     "output_type": "display_data"
    }
   ],
   "source": [
    "# 산점도(Scatter)\n",
    "# plt.scatter()\n",
    "height = [155,160,165,172,177,180,185]\n",
    "weight = [43,55,62,64, 67,74,90]\n",
    "\n",
    "plt.scatter( height, weight, s=200, c='r', alpha=0.5)\n",
    "plt.show()"
   ]
  },
  {
   "cell_type": "code",
   "execution_count": 39,
   "metadata": {},
   "outputs": [
    {
     "data": {
      "image/png": "[encoded data removed]",
      "text/plain": [
       "<Figure size 432x288 with 1 Axes>"
      ]
     },
     "metadata": {
      "needs_background": "light"
     },
     "output_type": "display_data"
    }
   ],
   "source": [
    "# 다양한 크기와 색깔로 표현이 가능.\n",
    "# alpha : 투명도.\n",
    "# c : 색상.\n",
    "# s : 사이즈.\n",
    "plt.scatter( height, weight,s=[100,150,200,250,300,350,400], \n",
    "            c=['r','g','b','k','m','y','c'], alpha=0.5)\n",
    "plt.text(155, 43, '43kg')\n",
    "plt.show()"
   ]
  },
  {
   "cell_type": "markdown",
   "metadata": {},
   "source": [
    "#### 문제 1\n",
    "- 키 , 몸무게, 표준체중(kg)=(신장(cm)-100)×0.85, 비만도(%)=현재체중/표준체중×100\n",
    "- 비만도\n",
    "    - ~ 90  : 저체중, (y,100)\n",
    "    - 90 ~ 110 : 정상, (b ,150)\n",
    "    - 110 ~ 120 : 과체중, (c, 200)\n",
    "    - 120 ~ : 비만, (r ,300)\n",
    "    \n",
    "- 그래프각점에 비만도 결과값(저체중, 정상, 과체중, 비만)글자를 표시하고 원의 크기는 각 결과값에 따라 다른 크기로 그리시오."
   ]
  },
  {
   "cell_type": "code",
   "execution_count": 46,
   "metadata": {},
   "outputs": [],
   "source": [
    "# 차트 그리기\n",
    "# 담을 리스트 만들기.\n",
    "colorList=[]\n",
    "sizeList=[]\n",
    "textList=[]\n",
    "\n",
    "# 비만도 함수 생성.\n",
    "def obesity(h, w):\n",
    "    \n",
    "    # 표준체중.\n",
    "    stdW = (h-100) * 0.85\n",
    "    \n",
    "    # 비만도 계산.\n",
    "    fat   = w/stdW * 100\n",
    "    color =''\n",
    "    size  = 0\n",
    "    text  = ''\n",
    "    \n",
    "    # 비만도에 따른 조건문 생성.\n",
    "    if fat <=90:\n",
    "        color = 'y'\n",
    "        size = 100\n",
    "        text = '저체중'\n",
    "        \n",
    "    elif fat<110:\n",
    "        color = 'b'\n",
    "        size= 150\n",
    "        text = '정상'\n",
    "        \n",
    "    elif fat<120:\n",
    "        color = 'c'\n",
    "        size= 200\n",
    "        text = '과체중'\n",
    "        \n",
    "    else:\n",
    "        color = 'r'\n",
    "        size= 300\n",
    "        text = '비만'\n",
    "    \n",
    "    # 리스트로 추가.\n",
    "    colorList.append(color)\n",
    "    sizeList.append(size)\n",
    "    textList.append(text)\n",
    "\n",
    "# 키, 몸무게 데이터 비만도 함수에 적용.\n",
    "for h, w in zip( height, weight):\n",
    "    obesity( h, w )"
   ]
  },
  {
   "cell_type": "code",
   "execution_count": 49,
   "metadata": {},
   "outputs": [
    {
     "data": {
      "image/png": "[encoded data removed]",
      "text/plain": [
       "<Figure size 432x288 with 1 Axes>"
      ]
     },
     "metadata": {
      "needs_background": "light"
     },
     "output_type": "display_data"
    }
   ],
   "source": [
    "# 결과값 Scatter로 표현.\n",
    "plt.scatter( height, weight, s=sizeList, c=colorList, alpha=0.5)\n",
    "for h, w, t in zip( height, weight, textList):\n",
    "    plt.text( h, w, t )\n",
    "plt.show()"
   ]
  }
 ],
 "metadata": {
  "kernelspec": {
   "display_name": "Python 3",
   "language": "python",
   "name": "python3"
  },
  "language_info": {
   "codemirror_mode": {
    "name": "ipython",
    "version": 3
   },
   "file_extension": ".py",
   "mimetype": "text/x-python",
   "name": "python",
   "nbconvert_exporter": "python",
   "pygments_lexer": "ipython3",
   "version": "3.7.6"
  }
 },
 "nbformat": 4,
 "nbformat_minor": 4
}
