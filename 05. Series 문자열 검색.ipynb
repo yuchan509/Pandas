{
 "cells": [
  {
   "cell_type": "code",
   "execution_count": 2,
   "metadata": {},
   "outputs": [],
   "source": [
    "import numpy as np\n",
    "import pandas as pd"
   ]
  },
  {
   "cell_type": "code",
   "execution_count": 3,
   "metadata": {},
   "outputs": [
    {
     "data": {
      "text/plain": [
       "aa    홍길동\n",
       "bb    이순신\n",
       "cc    김철수\n",
       "dd    김순이\n",
       "ee    이홍김\n",
       "dtype: object"
      ]
     },
     "execution_count": 3,
     "metadata": {},
     "output_type": "execute_result"
    }
   ],
   "source": [
    "# 사용할 문자열 데이터 만들기.\n",
    "sr = pd.Series(['홍길동','이순신','김철수','김순이','이홍김'] )\n",
    "sr.index=['aa','bb','cc','dd','ee']\n",
    "sr"
   ]
  },
  {
   "cell_type": "code",
   "execution_count": 8,
   "metadata": {},
   "outputs": [
    {
     "data": {
      "text/plain": [
       "<pandas.core.strings.accessor.StringMethods at 0x2770e2ff908>"
      ]
     },
     "execution_count": 8,
     "metadata": {},
     "output_type": "execute_result"
    }
   ],
   "source": [
    "# 데이터가 문잘열인 경우.\n",
    "# 데이터가 문자열 시리즈 객체의 str속성을 이용.\n",
    "# sr.index.str\n",
    "sr.str"
   ]
  },
  {
   "cell_type": "markdown",
   "metadata": {},
   "source": [
    "#### 문자열 Indexing slicing"
   ]
  },
  {
   "cell_type": "code",
   "execution_count": 9,
   "metadata": {},
   "outputs": [
    {
     "data": {
      "text/plain": [
       "aa    홍\n",
       "bb    이\n",
       "cc    김\n",
       "dd    김\n",
       "ee    이\n",
       "dtype: object"
      ]
     },
     "execution_count": 9,
     "metadata": {},
     "output_type": "execute_result"
    }
   ],
   "source": [
    "# 성만 가져옴. 이름이 3자라고 가정할 경우 => 0, 1, 2 순서.\n",
    "sr.str[0]   "
   ]
  },
  {
   "cell_type": "code",
   "execution_count": 8,
   "metadata": {},
   "outputs": [
    {
     "data": {
      "text/plain": [
       "aa    길동\n",
       "bb    순신\n",
       "cc    철수\n",
       "dd    순이\n",
       "ee    홍김\n",
       "dtype: object"
      ]
     },
     "execution_count": 8,
     "metadata": {},
     "output_type": "execute_result"
    }
   ],
   "source": [
    "# 0을 제외하고 끝까지 즉, 여기서는 이름을 가져옴.\n",
    "sr.str[1:]  "
   ]
  },
  {
   "cell_type": "code",
   "execution_count": 11,
   "metadata": {},
   "outputs": [
    {
     "data": {
      "text/plain": [
       "aa    동\n",
       "bb    신\n",
       "cc    수\n",
       "dd    이\n",
       "ee    김\n",
       "dtype: object"
      ]
     },
     "execution_count": 11,
     "metadata": {},
     "output_type": "execute_result"
    }
   ],
   "source": [
    "# 이름의 끝 글자만 가져옴.\n",
    "sr.str[-1] "
   ]
  },
  {
   "cell_type": "markdown",
   "metadata": {},
   "source": [
    "#### 정규 표현식 메타기호\n",
    "- 참고 사이트 : https://wikidocs.net/4308  \n",
    "    - .x : 임의의 한 문자의 자리수를 표현하며 문자열이 어떤 것(x)으로 끝난다는 것을 의미.\n",
    "    - ^x : 문자열의 시작을 표현하며 x 문자로 시작됨을 의미.\n",
    "    - x$ : 문자열의 종료를 표현하며 x 문자로 종료됨을 의미.\n",
    "    - x* : 반복여부를 표현하며 x 문자가 0번 또는 그 이상 반복됨을 의미.\n",
    "    - x+ : 반복을 표현하며 x 문자가 한번 이상 반복됨을 의미.\n",
    "    - x? : 존재여부를 표현하며, x 문자가 존재할 수도, 존재하지 않을 수도 있음을 의미.\n",
    "    - x{n} : 반복을 표현하며 x 문자가 n번 반복됨을 의미.\n",
    "    - x{n,} : 반복을 표현하며 x 문자가 n번 이상 반복됨을 의미.\n",
    "    - x{n,m} : 반복을 표현하며 x 문자가 최소 n번 이상 최대 m 번 이하로 반복됨을 의미.\n",
    "    - [xy] : 문자의 집합 중 하나라도 해당되는 것을 반환.\n",
    "    - [^xy] : x 및 y 를 제외한 문자를 의미.\n",
    "    - (x) : 그룹을 표현하며 x 를 그룹으로 처리함을 의미.\n",
    "    - (x)(y) : 그룹들의 집합을 표현하며 앞에서 부터 순서대로 번호를 부여하여 관리하고 x, y 는 각 그룹의 데이터로 관리됨.\n",
    "    - x|y : or 를 표현하며 x 또는 y 문자가 존재함을 의미.\n",
    "    - [x-z] : range를 표현하며 x ~ z 사이의 문자를 의미.\n",
    "    - \\ : ^, b, B, s, S, d, D, w, W, v, t 등의 문자가 붙음에 따라 여러 기능을 가짐."
   ]
  },
  {
   "cell_type": "code",
   "execution_count": 13,
   "metadata": {},
   "outputs": [
    {
     "data": {
      "text/plain": [
       "aa    False\n",
       "bb    False\n",
       "cc     True\n",
       "dd     True\n",
       "ee     True\n",
       "dtype: bool"
      ]
     },
     "execution_count": 13,
     "metadata": {},
     "output_type": "execute_result"
    }
   ],
   "source": [
    "# contains() : 조건에 해당되는 것만을 포함함.\n",
    "# 특정 문자열이 들어 있는지에 따라 True, False로 반환.\n",
    "sr.str.contains('김')    "
   ]
  },
  {
   "cell_type": "code",
   "execution_count": 10,
   "metadata": {},
   "outputs": [
    {
     "data": {
      "text/plain": [
       "cc    김철수\n",
       "dd    김순이\n",
       "ee    이홍김\n",
       "dtype: object"
      ]
     },
     "execution_count": 10,
     "metadata": {},
     "output_type": "execute_result"
    }
   ],
   "source": [
    "# Boolean Indexing 적용하여 데이터 추출.\n",
    "sr[ sr.str.contains('김') ]"
   ]
  },
  {
   "cell_type": "code",
   "execution_count": 11,
   "metadata": {},
   "outputs": [
    {
     "data": {
      "text/plain": [
       "aa    False\n",
       "bb    False\n",
       "cc     True\n",
       "dd     True\n",
       "ee    False\n",
       "dtype: bool"
      ]
     },
     "execution_count": 11,
     "metadata": {},
     "output_type": "execute_result"
    }
   ],
   "source": [
    "# ^ : 특정문자로 시작.\n",
    "sr.str.contains('^김')  "
   ]
  },
  {
   "cell_type": "code",
   "execution_count": 16,
   "metadata": {},
   "outputs": [
    {
     "data": {
      "text/plain": [
       "aa    False\n",
       "bb    False\n",
       "cc    False\n",
       "dd    False\n",
       "ee     True\n",
       "dtype: bool"
      ]
     },
     "execution_count": 16,
     "metadata": {},
     "output_type": "execute_result"
    }
   ],
   "source": [
    "# $ : 특정문자로 끝남.\n",
    "sr.str.contains('김$')  "
   ]
  },
  {
   "cell_type": "code",
   "execution_count": 17,
   "metadata": {},
   "outputs": [
    {
     "data": {
      "text/plain": [
       "aa     True\n",
       "bb     True\n",
       "cc    False\n",
       "dd     True\n",
       "ee     True\n",
       "dtype: bool"
      ]
     },
     "execution_count": 17,
     "metadata": {},
     "output_type": "execute_result"
    }
   ],
   "source": [
    "# [] 문자의 집합중 하나 : 즉 홍 또는 이라는 글자를 다 True로 반환.\n",
    "sr.str.contains('[홍이]')  "
   ]
  },
  {
   "cell_type": "code",
   "execution_count": 18,
   "metadata": {},
   "outputs": [
    {
     "data": {
      "text/plain": [
       "aa    False\n",
       "bb     True\n",
       "cc    False\n",
       "dd    False\n",
       "ee    False\n",
       "dtype: bool"
      ]
     },
     "execution_count": 18,
     "metadata": {},
     "output_type": "execute_result"
    }
   ],
   "source": [
    " # 홍순 또는 이순이라고 들어가는 있는 것을 반환.\n",
    "sr.str.contains('[홍이]순') "
   ]
  },
  {
   "cell_type": "code",
   "execution_count": 12,
   "metadata": {},
   "outputs": [
    {
     "data": {
      "text/plain": [
       "aa     True\n",
       "bb    False\n",
       "cc    False\n",
       "dd     True\n",
       "ee     True\n",
       "dtype: bool"
      ]
     },
     "execution_count": 12,
     "metadata": {},
     "output_type": "execute_result"
    }
   ],
   "source": [
    "# 갈동 또는 순이 또는 이홍 이라고 들어가는 있는 것을 반환.\n",
    "sr.str.contains('길동|순이|이홍')"
   ]
  },
  {
   "cell_type": "code",
   "execution_count": 27,
   "metadata": {},
   "outputs": [
    {
     "data": {
      "text/plain": [
       "aa    홍길동\n",
       "dtype: object"
      ]
     },
     "execution_count": 27,
     "metadata": {},
     "output_type": "execute_result"
    }
   ],
   "source": [
    "# 문자열로 부여된 인덱스를 기준으로 'a'라고 부여된 것이 있다면 그 값을 반환.\n",
    "sr[sr.index.str.contains('a')]"
   ]
  },
  {
   "cell_type": "code",
   "execution_count": 23,
   "metadata": {},
   "outputs": [
    {
     "data": {
      "text/plain": [
       "aa    홍길동\n",
       "bb    이순신\n",
       "cc    황철수\n",
       "dd    황순이\n",
       "ee    이홍황\n",
       "dtype: object"
      ]
     },
     "execution_count": 23,
     "metadata": {},
     "output_type": "execute_result"
    }
   ],
   "source": [
    "# replace() : 특정문자를 지정한 문자로 바꿈.\n",
    "# sr = sr.str.replace('김', '황')\n",
    "sr.str.replace('김', '황')"
   ]
  },
  {
   "cell_type": "code",
   "execution_count": 24,
   "metadata": {},
   "outputs": [
    {
     "data": {
      "text/plain": [
       "aa    홍길동\n",
       "bb    이순신\n",
       "cc    황철수\n",
       "dd    황순이\n",
       "ee    이홍김\n",
       "dtype: object"
      ]
     },
     "execution_count": 24,
     "metadata": {},
     "output_type": "execute_result"
    }
   ],
   "source": [
    "# 김이라 시작하는 이름을 황으로 바꿈.\n",
    "sr.str.replace('^김', '황')"
   ]
  },
  {
   "cell_type": "code",
   "execution_count": 25,
   "metadata": {},
   "outputs": [
    {
     "data": {
      "text/plain": [
       "aa    홍길동\n",
       "bb    이순신\n",
       "cc     황수\n",
       "dd    김순이\n",
       "ee    이홍김\n",
       "dtype: object"
      ]
     },
     "execution_count": 25,
     "metadata": {},
     "output_type": "execute_result"
    }
   ],
   "source": [
    "# 김철 또는 김이로 시작한다면 황으로 바꿈.\n",
    "sr.str.replace('김[철이]', '황')"
   ]
  }
 ],
 "metadata": {
  "kernelspec": {
   "display_name": "Python 3",
   "language": "python",
   "name": "python3"
  },
  "language_info": {
   "codemirror_mode": {
    "name": "ipython",
    "version": 3
   },
   "file_extension": ".py",
   "mimetype": "text/x-python",
   "name": "python",
   "nbconvert_exporter": "python",
   "pygments_lexer": "ipython3",
   "version": "3.7.6"
  }
 },
 "nbformat": 4,
 "nbformat_minor": 4
}
