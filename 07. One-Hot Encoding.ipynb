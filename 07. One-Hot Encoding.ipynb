{
 "cells": [
  {
   "cell_type": "markdown",
   "metadata": {},
   "source": [
    "### One-Hot Encoding\n",
    "- 단어 집합(사전) 크기를 벡터의 차원으로 하고, 단어를 숫자 형태로 바꾸는 여러 기법 중 하나.\n",
    "    - 1. 단어의 집합 또는 사전에 있는 단어들에 고유한 숫자를 부여하여 바꾸는 방식.(정수 인코딩)\n",
    "    - 2. 표현하고 싶은 단어 인덱스 위치에 1을 부여하고 다른 단어의 인덱스 위치에는 0을 부여하는 방식."
   ]
  },
  {
   "cell_type": "markdown",
   "metadata": {},
   "source": [
    "#### One-Hot Encoding 한계\n",
    "- 단어의 개수가 증가할 수록, 벡터를 저장하기 위한 공간도 증가.(벡터의 차원이 증가) -> 저장 공간 측면 차원에서 비효율적.\n",
    "- 단어의 유사도를 표현하지 못한다는 점.\n",
    "- 한계점을 해결하기 위한 방안.\n",
    "    - 1. 카운트 기반의 벡터화 방법. ex) LSA, HAL 등\n",
    "    - 2. 예측 기반의 벡터화 방법. ex) NNLM, RNNLM, Word2Vec, FastText 등"
   ]
  },
  {
   "cell_type": "code",
   "execution_count": 1,
   "metadata": {},
   "outputs": [],
   "source": [
    "from konlpy.tag import Okt\n",
    "from tensorflow.keras.utils import to_categorical\n",
    "from tensorflow.keras.preprocessing.text import Tokenizer"
   ]
  },
  {
   "cell_type": "code",
   "execution_count": 2,
   "metadata": {},
   "outputs": [
    {
     "name": "stdout",
     "output_type": "stream",
     "text": [
      "{'나': 0, '는': 1, '자연어': 2, '처리': 3, '를': 4, '배운다': 5}\n"
     ]
    }
   ],
   "source": [
    "okt = Okt()\n",
    "token = okt.morphs('나는 자연어 처리를 배운다')\n",
    "# print(token)\n",
    "\n",
    "# 단어에 고유한 인덱스를 부여하기 위한 딕셔너리 생성.\n",
    "word_to_index = {}\n",
    "for i in token :\n",
    "    if i not in word_to_index.keys() :\n",
    "        word_to_index[i] = len(word_to_index)\n",
    "\n",
    "print(word_to_index)"
   ]
  },
  {
   "cell_type": "code",
   "execution_count": 3,
   "metadata": {},
   "outputs": [
    {
     "data": {
      "text/plain": [
       "[0, 0, 1, 0, 0, 0]"
      ]
     },
     "execution_count": 3,
     "metadata": {},
     "output_type": "execute_result"
    }
   ],
   "source": [
    "# One-Hot Vector function.\n",
    "def One_Hot_Encoding(word, word_to_index) :\n",
    "    OneHotVector = [0] * (len(word_to_index))\n",
    "    index = word_to_index[word]\n",
    "    OneHotVector[index] = 1\n",
    "    return OneHotVector\n",
    "\n",
    "One_Hot_Encoding('자연어', word_to_index)"
   ]
  },
  {
   "cell_type": "code",
   "execution_count": 4,
   "metadata": {},
   "outputs": [
    {
     "name": "stdout",
     "output_type": "stream",
     "text": [
      "{'갈래': 1, '점심': 2, '햄버거': 3, '나랑': 4, '먹으러': 5, '메뉴는': 6, '최고야': 7}\n",
      "[2, 5, 1, 6, 3, 7]\n",
      "\n",
      "[[0. 0. 1. 0. 0. 0. 0. 0.]\n",
      " [0. 0. 0. 0. 0. 1. 0. 0.]\n",
      " [0. 1. 0. 0. 0. 0. 0. 0.]\n",
      " [0. 0. 0. 0. 0. 0. 1. 0.]\n",
      " [0. 0. 0. 1. 0. 0. 0. 0.]\n",
      " [0. 0. 0. 0. 0. 0. 0. 1.]]\n"
     ]
    }
   ],
   "source": [
    "# keras -> one-hot encoding.\n",
    "text2 = '나랑 점심 먹으러 갈래 점심 메뉴는 햄버거 갈래 갈래 햄버거 최고야'\n",
    "token2 = Tokenizer()\n",
    "token2.fit_on_texts([text2])\n",
    "\n",
    "# 각 단어에 대한 인코딩 결과 출력.\n",
    "print(token2.word_index)\n",
    "\n",
    "# text2에 있는 단어들로만 구성되어 있는 text3를 구성.\n",
    "text3 = '점심 먹으러 갈래 메뉴는 햄버거 최고야'\n",
    "encoded = token2.texts_to_sequences([text3])[0]\n",
    "print(encoded)\n",
    "print()\n",
    "\n",
    "# 정수 인코딩된 결과를 토대로 0ne-Hot Encoding.\n",
    "OneHot = to_categorical(encoded)\n",
    "print(OneHot)"
   ]
  }
 ],
 "metadata": {
  "kernelspec": {
   "display_name": "Python 3",
   "language": "python",
   "name": "python3"
  },
  "language_info": {
   "codemirror_mode": {
    "name": "ipython",
    "version": 3
   },
   "file_extension": ".py",
   "mimetype": "text/x-python",
   "name": "python",
   "nbconvert_exporter": "python",
   "pygments_lexer": "ipython3",
   "version": "3.8.5"
  }
 },
 "nbformat": 4,
 "nbformat_minor": 4
}
