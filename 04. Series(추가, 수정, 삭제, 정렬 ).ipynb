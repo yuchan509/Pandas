{
 "cells": [
  {
   "cell_type": "code",
   "execution_count": 1,
   "metadata": {},
   "outputs": [],
   "source": [
    "import numpy as np\n",
    "import pandas as pd"
   ]
  },
  {
   "cell_type": "code",
   "execution_count": 2,
   "metadata": {},
   "outputs": [
    {
     "data": {
      "text/plain": [
       "aa    10\n",
       "bb    20\n",
       "cc    30\n",
       "dd    40\n",
       "ee    50\n",
       "Name: 국어점수, dtype: int64"
      ]
     },
     "execution_count": 2,
     "metadata": {},
     "output_type": "execute_result"
    }
   ],
   "source": [
    "# 사용할 데이터 만들기.\n",
    "data = {'aa':10,'bb':20,'cc':30,'dd':40, 'ee':50}\n",
    "sr   = pd.Series(data, name='국어점수')\n",
    "sr"
   ]
  },
  {
   "cell_type": "markdown",
   "metadata": {},
   "source": [
    "#### 추가"
   ]
  },
  {
   "cell_type": "code",
   "execution_count": 3,
   "metadata": {},
   "outputs": [
    {
     "data": {
      "text/plain": [
       "aa    10\n",
       "bb    20\n",
       "cc    30\n",
       "dd    40\n",
       "ee    70\n",
       "ff    70\n",
       "Name: 국어점수, dtype: int64"
      ]
     },
     "execution_count": 3,
     "metadata": {},
     "output_type": "execute_result"
    }
   ],
   "source": [
    "# 'ee' 가 존재시 수정.\n",
    "sr.loc['ee'] = 70\n",
    "\n",
    "# 'ff' 가 없다면 추가.\n",
    "sr.loc['ff'] = 70 \n",
    "sr"
   ]
  },
  {
   "cell_type": "code",
   "execution_count": 4,
   "metadata": {
    "scrolled": true
   },
   "outputs": [
    {
     "data": {
      "text/plain": [
       "aa     10\n",
       "bb     20\n",
       "cc     30\n",
       "dd     40\n",
       "ee     70\n",
       "ff     70\n",
       "gg     80\n",
       "hh     90\n",
       "ii    100\n",
       "dtype: int64"
      ]
     },
     "execution_count": 4,
     "metadata": {},
     "output_type": "execute_result"
    }
   ],
   "source": [
    "# sr.append() : 데이터를 추가.\n",
    "# sr = sr.append( pd.Series( [80, 90, 100], index=['gg','hh','ii'] ) )\n",
    "sr.append( pd.Series( [80, 90, 100], index=['gg','hh','ii']) )"
   ]
  },
  {
   "cell_type": "markdown",
   "metadata": {},
   "source": [
    "#### 수정"
   ]
  },
  {
   "cell_type": "code",
   "execution_count": 5,
   "metadata": {},
   "outputs": [
    {
     "data": {
      "text/plain": [
       "aa     1\n",
       "bb    20\n",
       "cc    30\n",
       "dd    40\n",
       "ee    70\n",
       "ff    70\n",
       "Name: 국어점수, dtype: int64"
      ]
     },
     "execution_count": 5,
     "metadata": {},
     "output_type": "execute_result"
    }
   ],
   "source": [
    "# 수정할 수 있는 여러가지 방법.\n",
    "# sr['aa'] = 100\n",
    "# sr.iloc[0] = 100\n",
    "# sr.loc['aa'] = 100\n",
    "sr[0] = 1\n",
    "sr"
   ]
  },
  {
   "cell_type": "code",
   "execution_count": 6,
   "metadata": {},
   "outputs": [],
   "source": [
    "sr[1:3] = [1,2]\n",
    "# sr.iloc[1:3] = 100\n",
    "# sr['bb':'cc'] = [1,2]\n",
    "# sr.loc['bb':'cc'] = [1,2]"
   ]
  },
  {
   "cell_type": "code",
   "execution_count": 7,
   "metadata": {},
   "outputs": [],
   "source": [
    "# 연산 및 Indexing으로도 수정이 가능.\n",
    "sr['dd':'ee'] = sr['dd':'ee'] + 2"
   ]
  },
  {
   "cell_type": "code",
   "execution_count": 8,
   "metadata": {},
   "outputs": [],
   "source": [
    "# 조건에 따른 데이터만을 수정.\n",
    "# 30 이상인 데이터에 5를 더한 값으로 수정하시오.\n",
    "sr[sr >= 30] = sr[sr >= 30] + 2"
   ]
  },
  {
   "cell_type": "markdown",
   "metadata": {},
   "source": [
    "#### 삭제"
   ]
  },
  {
   "cell_type": "code",
   "execution_count": 9,
   "metadata": {},
   "outputs": [
    {
     "data": {
      "text/plain": [
       "bb     1\n",
       "dd    44\n",
       "ee    74\n",
       "ff    72\n",
       "Name: 국어점수, dtype: int64"
      ]
     },
     "execution_count": 9,
     "metadata": {},
     "output_type": "execute_result"
    }
   ],
   "source": [
    "# sr.drop( **부여된 인덱스 사용**)\n",
    "# 1번째 방법 : sr = sr.drop( ['aa', 'cc'])\n",
    "# 2번째 방법 : sr.drop( ['aa', 'cc'], inplace=True)\n",
    "# inplace=True : 지정된 값을 삭제하도록 데이터에 적용시켜줌.\n",
    "# 아래와 같이 할 경우 실제 data는 변경되지 않음.\n",
    "sr.drop( ['aa', 'cc'])"
   ]
  },
  {
   "cell_type": "code",
   "execution_count": 10,
   "metadata": {},
   "outputs": [
    {
     "data": {
      "text/plain": [
       "aa    1\n",
       "bb    1\n",
       "cc    2\n",
       "Name: 국어점수, dtype: int64"
      ]
     },
     "execution_count": 10,
     "metadata": {},
     "output_type": "execute_result"
    }
   ],
   "source": [
    "# 25이상인 데이터를 삭제하시오.\n",
    "sr.drop(sr[sr >= 25].index)"
   ]
  },
  {
   "cell_type": "markdown",
   "metadata": {},
   "source": [
    "#### 정렬"
   ]
  },
  {
   "cell_type": "code",
   "execution_count": 11,
   "metadata": {},
   "outputs": [
    {
     "data": {
      "text/plain": [
       "aa     1\n",
       "bb     1\n",
       "cc     2\n",
       "dd    44\n",
       "ff    72\n",
       "ee    74\n",
       "Name: 국어점수, dtype: int64"
      ]
     },
     "execution_count": 11,
     "metadata": {},
     "output_type": "execute_result"
    }
   ],
   "source": [
    "# ascending=False (내림차순)  , inplace = True (변경값 적용)\n",
    "# default value : ascending=True (오름차순)\n",
    "sr.sort_values()   "
   ]
  }
 ],
 "metadata": {
  "kernelspec": {
   "display_name": "Python 3",
   "language": "python",
   "name": "python3"
  },
  "language_info": {
   "codemirror_mode": {
    "name": "ipython",
    "version": 3
   },
   "file_extension": ".py",
   "mimetype": "text/x-python",
   "name": "python",
   "nbconvert_exporter": "python",
   "pygments_lexer": "ipython3",
   "version": "3.7.6"
  }
 },
 "nbformat": 4,
 "nbformat_minor": 4
}
